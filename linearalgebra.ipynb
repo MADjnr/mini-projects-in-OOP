{
 "cells": [
  {
   "cell_type": "code",
   "execution_count": 1,
   "id": "1239e5c8-63a5-4a54-9ce4-39c6c4519a08",
   "metadata": {},
   "outputs": [
    {
     "name": "stdout",
     "output_type": "stream",
     "text": [
      "[[3]]\n"
     ]
    }
   ],
   "source": [
    "import numpy as np\n",
    "\n",
    "\n",
    "# Python code to compute the inner inner product and norm\n",
    "x = np.array([[1], [0], [-1]])\n",
    "y = np.array([[3], [2], [0]])\n",
    "\n",
    "z = np.dot(np.transpose(x), y)\n",
    "print(z)"
   ]
  },
  {
   "cell_type": "code",
   "execution_count": 3,
   "id": "b62fc1c1-d396-43da-97be-be6f75555a74",
   "metadata": {},
   "outputs": [
    {
     "name": "stdout",
     "output_type": "stream",
     "text": [
      "1.4142135623730951\n"
     ]
    }
   ],
   "source": [
    "import numpy as np \n",
    "x = np.array([[1],[0],[-1]])\n",
    "x_norm = np.linalg.norm(x)\n",
    "print(x_norm)"
   ]
  },
  {
   "cell_type": "code",
   "execution_count": 6,
   "id": "cb325957-eb20-4d5d-bed0-0d79abd4ff13",
   "metadata": {},
   "outputs": [
    {
     "name": "stdout",
     "output_type": "stream",
     "text": [
      "[[12]]\n"
     ]
    }
   ],
   "source": [
    "### python code to compute the weighted norm\n",
    "import numpy as np\n",
    "w = np.array([[1,2,3], [4,5,6], [7,8,9]])\n",
    "x = np.array([[2],[-1],[1]])\n",
    "z = np.dot(x.T, np.dot(w,x))\n",
    "print(z)"
   ]
  },
  {
   "cell_type": "code",
   "execution_count": null,
   "id": "b5d04cca-732a-410e-9dbc-356c505d686b",
   "metadata": {},
   "outputs": [],
   "source": []
  }
 ],
 "metadata": {
  "kernelspec": {
   "display_name": "Python 3 (ipykernel)",
   "language": "python",
   "name": "python3"
  },
  "language_info": {
   "codemirror_mode": {
    "name": "ipython",
    "version": 3
   },
   "file_extension": ".py",
   "mimetype": "text/x-python",
   "name": "python",
   "nbconvert_exporter": "python",
   "pygments_lexer": "ipython3",
   "version": "3.9.7"
  }
 },
 "nbformat": 4,
 "nbformat_minor": 5
}
